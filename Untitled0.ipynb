{
 "metadata": {
  "name": "",
  "signature": "sha256:20eb19303158972cabc6012f5e00c439c2b6948cd80a9bff046012adc5ac6445"
 },
 "nbformat": 3,
 "nbformat_minor": 0,
 "worksheets": [
  {
   "cells": [
    {
     "cell_type": "code",
     "collapsed": false,
     "input": [
      "import tokenize\n",
      "from StringIO import StringIO"
     ],
     "language": "python",
     "metadata": {},
     "outputs": [],
     "prompt_number": 1
    },
    {
     "cell_type": "code",
     "collapsed": false,
     "input": [
      "a = \"x = 3\"\n",
      "b = \"y = x + 52.817\"\n",
      "hw = \"print 'Hello, World!'\""
     ],
     "language": "python",
     "metadata": {},
     "outputs": [],
     "prompt_number": 2
    },
    {
     "cell_type": "code",
     "collapsed": false,
     "input": [
      "def print_token(token_type, token_str, (srow, scol), (erow, ecol), line):\n",
      "    if srow == erow:\n",
      "        print \"{}: {}, {}, {}\".format(srow, tokenize.tok_name[token_type], repr(token_str), line)\n",
      "    else:\n",
      "        print \"{}-{}: {}, {}, {}\".format(srow, erow, tokenize.tok_name[token_type], repr(token_str), repr(line))\n",
      "\n",
      "def print_token_verbose(token_type, token_str, (srow, scol), (erow, ecol), line):\n",
      "    print \"({},{})--({},{}), {}, {}, {}\".format(\n",
      "        srow, scol, erow, ecol, tokenize.tok_name[token_type], repr(token_str), repr(line))\n",
      "\n",
      "def display_tokens(string, verbose=False):\n",
      "    s = StringIO(string).readline\n",
      "    f = print_token\n",
      "    if verbose:\n",
      "        f = print_token_verbose\n",
      "    tokenize.tokenize(s, f)"
     ],
     "language": "python",
     "metadata": {},
     "outputs": [],
     "prompt_number": 3
    },
    {
     "cell_type": "code",
     "collapsed": false,
     "input": [
      "display_tokens(a, verbose=True)"
     ],
     "language": "python",
     "metadata": {},
     "outputs": [
      {
       "output_type": "stream",
       "stream": "stdout",
       "text": [
        "(1,0)--(1,1), NAME, 'x', 'x = 3'\n",
        "(1,2)--(1,3), OP, '=', 'x = 3'\n",
        "(1,4)--(1,5), NUMBER, '3', 'x = 3'\n",
        "(2,0)--(2,0), ENDMARKER, '', ''\n"
       ]
      }
     ],
     "prompt_number": 4
    },
    {
     "cell_type": "code",
     "collapsed": false,
     "input": [
      "display_tokens(b, verbose=True)"
     ],
     "language": "python",
     "metadata": {},
     "outputs": [
      {
       "output_type": "stream",
       "stream": "stdout",
       "text": [
        "(1,0)--(1,1), NAME, 'y', 'y = x + 52.817'\n",
        "(1,2)--(1,3), OP, '=', 'y = x + 52.817'\n",
        "(1,4)--(1,5), NAME, 'x', 'y = x + 52.817'\n",
        "(1,6)--(1,7), OP, '+', 'y = x + 52.817'\n",
        "(1,8)--(1,14), NUMBER, '52.817', 'y = x + 52.817'\n",
        "(2,0)--(2,0), ENDMARKER, '', ''\n"
       ]
      }
     ],
     "prompt_number": 5
    },
    {
     "cell_type": "code",
     "collapsed": false,
     "input": [
      "display_tokens(hw, verbose=True)"
     ],
     "language": "python",
     "metadata": {},
     "outputs": [
      {
       "output_type": "stream",
       "stream": "stdout",
       "text": [
        "(1,0)--(1,5), NAME, 'print', \"print 'Hello, World!'\"\n",
        "(1,6)--(1,21), STRING, \"'Hello, World!'\", \"print 'Hello, World!'\"\n",
        "(2,0)--(2,0), ENDMARKER, '', ''\n"
       ]
      }
     ],
     "prompt_number": 6
    },
    {
     "cell_type": "code",
     "collapsed": false,
     "input": [
      "longer=\"\"\"a = 3\n",
      "b = a**4\n",
      "b - a == 78\"\"\"\n",
      "\n",
      "display_tokens(longer, verbose=True)"
     ],
     "language": "python",
     "metadata": {},
     "outputs": [
      {
       "output_type": "stream",
       "stream": "stdout",
       "text": [
        "(1,0)--(1,1), NAME, 'a', 'a = 3\\n'\n",
        "(1,2)--(1,3), OP, '=', 'a = 3\\n'\n",
        "(1,4)--(1,5), NUMBER, '3', 'a = 3\\n'\n",
        "(1,5)--(1,6), NEWLINE, '\\n', 'a = 3\\n'\n",
        "(2,0)--(2,1), NAME, 'b', 'b = a**4\\n'\n",
        "(2,2)--(2,3), OP, '=', 'b = a**4\\n'\n",
        "(2,4)--(2,5), NAME, 'a', 'b = a**4\\n'\n",
        "(2,5)--(2,7), OP, '**', 'b = a**4\\n'\n",
        "(2,7)--(2,8), NUMBER, '4', 'b = a**4\\n'\n",
        "(2,8)--(2,9), NEWLINE, '\\n', 'b = a**4\\n'\n",
        "(3,0)--(3,1), NAME, 'b', 'b - a == 78'\n",
        "(3,2)--(3,3), OP, '-', 'b - a == 78'\n",
        "(3,4)--(3,5), NAME, 'a', 'b - a == 78'\n",
        "(3,6)--(3,8), OP, '==', 'b - a == 78'\n",
        "(3,9)--(3,11), NUMBER, '78', 'b - a == 78'\n",
        "(4,0)--(4,0), ENDMARKER, '', ''\n"
       ]
      }
     ],
     "prompt_number": 7
    },
    {
     "cell_type": "code",
     "collapsed": false,
     "input": [
      "class_ex=\"\"\"class Foo(object):\n",
      "    def __init__(self, x):\n",
      "        self.x = x\n",
      "f = Foo(3)\n",
      "print f.x\"\"\"\n",
      "\n",
      "display_tokens(class_ex, verbose=True)"
     ],
     "language": "python",
     "metadata": {},
     "outputs": [
      {
       "output_type": "stream",
       "stream": "stdout",
       "text": [
        "(1,0)--(1,5), NAME, 'class', 'class Foo(object):\\n'\n",
        "(1,6)--(1,9), NAME, 'Foo', 'class Foo(object):\\n'\n",
        "(1,9)--(1,10), OP, '(', 'class Foo(object):\\n'\n",
        "(1,10)--(1,16), NAME, 'object', 'class Foo(object):\\n'\n",
        "(1,16)--(1,17), OP, ')', 'class Foo(object):\\n'\n",
        "(1,17)--(1,18), OP, ':', 'class Foo(object):\\n'\n",
        "(1,18)--(1,19), NEWLINE, '\\n', 'class Foo(object):\\n'\n",
        "(2,0)--(2,4), INDENT, '    ', '    def __init__(self, x):\\n'\n",
        "(2,4)--(2,7), NAME, 'def', '    def __init__(self, x):\\n'\n",
        "(2,8)--(2,16), NAME, '__init__', '    def __init__(self, x):\\n'\n",
        "(2,16)--(2,17), OP, '(', '    def __init__(self, x):\\n'\n",
        "(2,17)--(2,21), NAME, 'self', '    def __init__(self, x):\\n'\n",
        "(2,21)--(2,22), OP, ',', '    def __init__(self, x):\\n'\n",
        "(2,23)--(2,24), NAME, 'x', '    def __init__(self, x):\\n'\n",
        "(2,24)--(2,25), OP, ')', '    def __init__(self, x):\\n'\n",
        "(2,25)--(2,26), OP, ':', '    def __init__(self, x):\\n'\n",
        "(2,26)--(2,27), NEWLINE, '\\n', '    def __init__(self, x):\\n'\n",
        "(3,0)--(3,8), INDENT, '        ', '        self.x = x\\n'\n",
        "(3,8)--(3,12), NAME, 'self', '        self.x = x\\n'\n",
        "(3,12)--(3,13), OP, '.', '        self.x = x\\n'\n",
        "(3,13)--(3,14), NAME, 'x', '        self.x = x\\n'\n",
        "(3,15)--(3,16), OP, '=', '        self.x = x\\n'\n",
        "(3,17)--(3,18), NAME, 'x', '        self.x = x\\n'\n",
        "(3,18)--(3,19), NEWLINE, '\\n', '        self.x = x\\n'\n",
        "(4,0)--(4,0), DEDENT, '', 'f = Foo(3)\\n'\n",
        "(4,0)--(4,0), DEDENT, '', 'f = Foo(3)\\n'\n",
        "(4,0)--(4,1), NAME, 'f', 'f = Foo(3)\\n'\n",
        "(4,2)--(4,3), OP, '=', 'f = Foo(3)\\n'\n",
        "(4,4)--(4,7), NAME, 'Foo', 'f = Foo(3)\\n'\n",
        "(4,7)--(4,8), OP, '(', 'f = Foo(3)\\n'\n",
        "(4,8)--(4,9), NUMBER, '3', 'f = Foo(3)\\n'\n",
        "(4,9)--(4,10), OP, ')', 'f = Foo(3)\\n'\n",
        "(4,10)--(4,11), NEWLINE, '\\n', 'f = Foo(3)\\n'\n",
        "(5,0)--(5,5), NAME, 'print', 'print f.x'\n",
        "(5,6)--(5,7), NAME, 'f', 'print f.x'\n",
        "(5,7)--(5,8), OP, '.', 'print f.x'\n",
        "(5,8)--(5,9), NAME, 'x', 'print f.x'\n",
        "(6,0)--(6,0), ENDMARKER, '', ''\n"
       ]
      }
     ],
     "prompt_number": 8
    },
    {
     "cell_type": "code",
     "collapsed": false,
     "input": [
      "import ast\n",
      "import copy"
     ],
     "language": "python",
     "metadata": {},
     "outputs": [],
     "prompt_number": 40
    },
    {
     "cell_type": "code",
     "collapsed": false,
     "input": [
      "ast.dump(ast.parse(a))"
     ],
     "language": "python",
     "metadata": {},
     "outputs": [
      {
       "metadata": {},
       "output_type": "pyout",
       "prompt_number": 10,
       "text": [
        "\"Module(body=[Assign(targets=[Name(id='x', ctx=Store())], value=Num(n=3))])\""
       ]
      }
     ],
     "prompt_number": 10
    },
    {
     "cell_type": "code",
     "collapsed": false,
     "input": [
      "exec(compile(ast.parse(hw, mode='exec'), '', 'exec'))"
     ],
     "language": "python",
     "metadata": {},
     "outputs": [
      {
       "output_type": "stream",
       "stream": "stdout",
       "text": [
        "Hello, World!\n"
       ]
      }
     ],
     "prompt_number": 17
    },
    {
     "cell_type": "code",
     "collapsed": false,
     "input": [
      "ast.dump(ast.parse(a), include_attributes=True)"
     ],
     "language": "python",
     "metadata": {},
     "outputs": [
      {
       "metadata": {},
       "output_type": "pyout",
       "prompt_number": 20,
       "text": [
        "\"Module(body=[Assign(targets=[Name(id='x', ctx=Store(), lineno=1, col_offset=0)], value=Num(n=3, lineno=1, col_offset=4), lineno=1, col_offset=0)])\""
       ]
      }
     ],
     "prompt_number": 20
    },
    {
     "cell_type": "code",
     "collapsed": false,
     "input": [
      "print ast.dump(ast.parse(a))"
     ],
     "language": "python",
     "metadata": {},
     "outputs": [
      {
       "output_type": "stream",
       "stream": "stdout",
       "text": [
        "Module(body=[Assign(targets=[Name(id='x', ctx=Store())], value=Num(n=3))])\n"
       ]
      }
     ],
     "prompt_number": 26
    },
    {
     "cell_type": "code",
     "collapsed": false,
     "input": [
      "# http://05d2db1380b6504cc981-8cbed8cf7e3a131cd8f1c3e383d10041.r93.cf2.rackcdn.com/pycon-us-2011/419_what-would-you-do-with-an-ast.mp4\n",
      "\n",
      "use_x = ast.Name(id=\"x\", ctx=ast.Load())\n",
      "assign_x = ast.Name(id=\"x\", ctx=ast.Store())\n",
      "one = ast.Num(n=1)\n",
      "two = ast.Num(n=2)\n",
      "four = ast.Num(n=4)"
     ],
     "language": "python",
     "metadata": {},
     "outputs": [],
     "prompt_number": 36
    },
    {
     "cell_type": "code",
     "collapsed": false,
     "input": [
      "assign_2 = ast.Assign(targets=[copy.copy(assign_x)], value=copy.copy(two))\n",
      "assign_2.lineno = 1\n",
      "assign_2.col_offset = 0\n",
      "ast.fix_missing_locations(assign_2) # <-- Applies lineno and col_offset to nodes in subtree (wrong, but ok for now)"
     ],
     "language": "python",
     "metadata": {},
     "outputs": [
      {
       "metadata": {},
       "output_type": "pyout",
       "prompt_number": 47,
       "text": [
        "<_ast.Assign at 0x102796750>"
       ]
      }
     ],
     "prompt_number": 47
    },
    {
     "cell_type": "code",
     "collapsed": false,
     "input": [
      "if_ = ast.If()\n",
      "if_.test = ast.Compare()\n",
      "if_.test.left = copy.copy(use_x)\n",
      "if_.test.ops = [ast.Eq()]\n",
      "if_.test.comparators = [copy.copy(four)]"
     ],
     "language": "python",
     "metadata": {},
     "outputs": [],
     "prompt_number": 48
    },
    {
     "cell_type": "code",
     "collapsed": false,
     "input": [
      "if_.body = [ast.Print(dest=None, values=[copy.copy(use_x)], nl=True)]"
     ],
     "language": "python",
     "metadata": {},
     "outputs": [],
     "prompt_number": 49
    },
    {
     "cell_type": "code",
     "collapsed": false,
     "input": [
      "x_plus_1 = ast.BinOp(left=copy.copy(use_x), op=ast.Add(), right=copy.copy(one))\n",
      "assign = ast.Assign(targets=[copy.copy(assign_x)], value=x_plus_1)\n",
      "if_.orelse = [assign]"
     ],
     "language": "python",
     "metadata": {},
     "outputs": [],
     "prompt_number": 50
    },
    {
     "cell_type": "code",
     "collapsed": false,
     "input": [
      "if_.lineno = 2\n",
      "if_.col_offset = 0\n",
      "ast.fix_missing_locations(if_)"
     ],
     "language": "python",
     "metadata": {},
     "outputs": [
      {
       "metadata": {},
       "output_type": "pyout",
       "prompt_number": 51,
       "text": [
        "<_ast.If at 0x10277bd90>"
       ]
      }
     ],
     "prompt_number": 51
    },
    {
     "cell_type": "code",
     "collapsed": false,
     "input": [
      "print_x = ast.Print(dest=None, values=[copy.copy(use_x)], nl=True)"
     ],
     "language": "python",
     "metadata": {},
     "outputs": [],
     "prompt_number": 52
    },
    {
     "cell_type": "code",
     "collapsed": false,
     "input": [
      "print_x.lineno = 3\n",
      "print_x.col_offset = 0\n",
      "ast.fix_missing_locations(print_x)"
     ],
     "language": "python",
     "metadata": {},
     "outputs": [
      {
       "metadata": {},
       "output_type": "pyout",
       "prompt_number": 53,
       "text": [
        "<_ast.Print at 0x102796210>"
       ]
      }
     ],
     "prompt_number": 53
    },
    {
     "cell_type": "code",
     "collapsed": false,
     "input": [
      "mod = ast.Module(body=[assign_2, if_, print_x])\n"
     ],
     "language": "python",
     "metadata": {},
     "outputs": [],
     "prompt_number": 54
    },
    {
     "cell_type": "code",
     "collapsed": false,
     "input": [
      "code = compile(mod, '', 'exec')"
     ],
     "language": "python",
     "metadata": {},
     "outputs": [],
     "prompt_number": 55
    },
    {
     "cell_type": "code",
     "collapsed": false,
     "input": [
      "exec code\n",
      "print\n",
      "print (ast.dump(mod, include_attributes=True))\n",
      "print\n"
     ],
     "language": "python",
     "metadata": {},
     "outputs": [
      {
       "output_type": "stream",
       "stream": "stdout",
       "text": [
        "3\n",
        "\n",
        "Module(body=[Assign(targets=[Name(id='x', ctx=Store(), lineno=1, col_offset=0)], value=Num(n=2, lineno=1, col_offset=0), lineno=1, col_offset=0), If(test=Compare(left=Name(id='x', ctx=Load(), lineno=2, col_offset=0), ops=[Eq()], comparators=[Num(n=4, lineno=2, col_offset=0)], lineno=2, col_offset=0), body=[Print(dest=None, values=[Name(id='x', ctx=Load(), lineno=2, col_offset=0)], nl=True, lineno=2, col_offset=0)], orelse=[Assign(targets=[Name(id='x', ctx=Store(), lineno=2, col_offset=0)], value=BinOp(left=Name(id='x', ctx=Load(), lineno=2, col_offset=0), op=Add(), right=Num(n=1, lineno=2, col_offset=0), lineno=2, col_offset=0), lineno=2, col_offset=0)], lineno=2, col_offset=0), Print(dest=None, values=[Name(id='x', ctx=Load(), lineno=3, col_offset=0)], nl=True, lineno=3, col_offset=0)])\n",
        "\n"
       ]
      }
     ],
     "prompt_number": 58
    },
    {
     "cell_type": "code",
     "collapsed": false,
     "input": [
      "fcn_str = \"\"\"def f(a, b=3, c=None):\n",
      "    print a\n",
      "    print \"b={}, c={}\".format(b,c)\"\"\""
     ],
     "language": "python",
     "metadata": {},
     "outputs": [],
     "prompt_number": 95
    },
    {
     "cell_type": "code",
     "collapsed": false,
     "input": [
      "fcn_parsed = ast.parse(fcn_str)\n",
      "print ast.dump(fcn_parsed)"
     ],
     "language": "python",
     "metadata": {},
     "outputs": [
      {
       "output_type": "stream",
       "stream": "stdout",
       "text": [
        "Module(body=[FunctionDef(name='f', args=arguments(args=[Name(id='a', ctx=Param()), Name(id='b', ctx=Param()), Name(id='c', ctx=Param())], vararg=None, kwarg=None, defaults=[Num(n=3), Name(id='None', ctx=Load())]), body=[Print(dest=None, values=[Name(id='a', ctx=Load())], nl=True), Print(dest=None, values=[Call(func=Attribute(value=Str(s='b={}, c={}'), attr='format', ctx=Load()), args=[Name(id='b', ctx=Load()), Name(id='c', ctx=Load())], keywords=[], starargs=None, kwargs=None)], nl=True)], decorator_list=[])])\n"
       ]
      }
     ],
     "prompt_number": 96
    },
    {
     "cell_type": "code",
     "collapsed": false,
     "input": [
      "for arg in fcn_parsed.body[0].args.args:\n",
      "    print arg.id"
     ],
     "language": "python",
     "metadata": {},
     "outputs": [
      {
       "output_type": "stream",
       "stream": "stdout",
       "text": [
        "a\n",
        "b\n",
        "c\n"
       ]
      }
     ],
     "prompt_number": 97
    },
    {
     "cell_type": "code",
     "collapsed": false,
     "input": [
      "ast.dump(fcn_parsed.body[0].args)"
     ],
     "language": "python",
     "metadata": {},
     "outputs": [
      {
       "metadata": {},
       "output_type": "pyout",
       "prompt_number": 98,
       "text": [
        "\"arguments(args=[Name(id='a', ctx=Param()), Name(id='b', ctx=Param()), Name(id='c', ctx=Param())], vararg=None, kwarg=None, defaults=[Num(n=3), Name(id='None', ctx=Load())])\""
       ]
      }
     ],
     "prompt_number": 98
    },
    {
     "cell_type": "code",
     "collapsed": false,
     "input": [
      "for x in fcn_parsed.body[0].args.defaults:\n",
      "    if isinstance(x, ast.Name):\n",
      "        print x.id\n",
      "    elif isinstance(x, ast.Num):\n",
      "        print x.n\n",
      "    else:\n",
      "        print x"
     ],
     "language": "python",
     "metadata": {},
     "outputs": [
      {
       "output_type": "stream",
       "stream": "stdout",
       "text": [
        "3\n",
        "None\n"
       ]
      }
     ],
     "prompt_number": 91
    },
    {
     "cell_type": "code",
     "collapsed": false,
     "input": [
      "fcn_parsed.body[0].args.defaults.append(ast.Num(n=5, lineno=1, col_offset=21))"
     ],
     "language": "python",
     "metadata": {},
     "outputs": [],
     "prompt_number": 80
    },
    {
     "cell_type": "code",
     "collapsed": false,
     "input": [
      "ast.dump(fcn_parsed)"
     ],
     "language": "python",
     "metadata": {},
     "outputs": [
      {
       "metadata": {},
       "output_type": "pyout",
       "prompt_number": 81,
       "text": [
        "\"Module(body=[FunctionDef(name='f', args=arguments(args=[Name(id='a', ctx=Param()), Name(id='b', ctx=Param()), Name(id='c', ctx=Param())], vararg=None, kwarg=None, defaults=[Num(n=3), Name(id='None', ctx=Load()), Num(n=5)]), body=[Print(dest=None, values=[Name(id='a', ctx=Load())], nl=True), Print(dest=None, values=[Call(func=Attribute(value=Str(s='b={}, c={}'), attr='format', ctx=Load()), args=[Name(id='b', ctx=Load()), Name(id='c', ctx=Load())], keywords=[], starargs=None, kwargs=None)], nl=True)], decorator_list=[])])\""
       ]
      }
     ],
     "prompt_number": 81
    },
    {
     "cell_type": "code",
     "collapsed": false,
     "input": [
      "fcn_parsed.body[0].args.defaults"
     ],
     "language": "python",
     "metadata": {},
     "outputs": [
      {
       "metadata": {},
       "output_type": "pyout",
       "prompt_number": 72,
       "text": [
        "[<_ast.Num at 0x101054090>,\n",
        " <_ast.Name at 0x1027a0e90>,\n",
        " <_ast.Num at 0x1027a0490>]"
       ]
      }
     ],
     "prompt_number": 72
    },
    {
     "cell_type": "code",
     "collapsed": false,
     "input": [
      "ast.dump(fcn_parsed,include_attributes=True)"
     ],
     "language": "python",
     "metadata": {},
     "outputs": [
      {
       "metadata": {},
       "output_type": "pyout",
       "prompt_number": 82,
       "text": [
        "\"Module(body=[FunctionDef(name='f', args=arguments(args=[Name(id='a', ctx=Param(), lineno=1, col_offset=6), Name(id='b', ctx=Param(), lineno=1, col_offset=9), Name(id='c', ctx=Param(), lineno=1, col_offset=14)], vararg=None, kwarg=None, defaults=[Num(n=3, lineno=1, col_offset=11), Name(id='None', ctx=Load(), lineno=1, col_offset=16), Num(n=5, lineno=1, col_offset=21)]), body=[Print(dest=None, values=[Name(id='a', ctx=Load(), lineno=2, col_offset=10)], nl=True, lineno=2, col_offset=4), Print(dest=None, values=[Call(func=Attribute(value=Str(s='b={}, c={}', lineno=3, col_offset=10), attr='format', ctx=Load(), lineno=3, col_offset=10), args=[Name(id='b', ctx=Load(), lineno=3, col_offset=30), Name(id='c', ctx=Load(), lineno=3, col_offset=32)], keywords=[], starargs=None, kwargs=None, lineno=3, col_offset=10)], nl=True, lineno=3, col_offset=4)], decorator_list=[], lineno=1, col_offset=0)])\""
       ]
      }
     ],
     "prompt_number": 82
    },
    {
     "cell_type": "code",
     "collapsed": false,
     "input": [
      "fcode = compile(fcn_parsed, \"\", 'exec')"
     ],
     "language": "python",
     "metadata": {},
     "outputs": [],
     "prompt_number": 84
    },
    {
     "cell_type": "code",
     "collapsed": false,
     "input": [
      "exec fcode"
     ],
     "language": "python",
     "metadata": {},
     "outputs": [],
     "prompt_number": 85
    },
    {
     "cell_type": "code",
     "collapsed": false,
     "input": [
      "f(b=\"meh\", c=4)"
     ],
     "language": "python",
     "metadata": {},
     "outputs": [
      {
       "output_type": "stream",
       "stream": "stdout",
       "text": [
        "3\n",
        "b=meh, c=4\n"
       ]
      }
     ],
     "prompt_number": 94
    },
    {
     "cell_type": "code",
     "collapsed": false,
     "input": [],
     "language": "python",
     "metadata": {},
     "outputs": []
    }
   ],
   "metadata": {}
  }
 ]
}