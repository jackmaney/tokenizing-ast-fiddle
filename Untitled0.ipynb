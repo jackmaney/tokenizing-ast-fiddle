{
 "cells": [
  {
   "cell_type": "code",
   "execution_count": 1,
   "metadata": {
    "collapsed": false
   },
   "outputs": [],
   "source": [
    "import tokenize\n",
    "from StringIO import StringIO"
   ]
  },
  {
   "cell_type": "code",
   "execution_count": 2,
   "metadata": {
    "collapsed": false
   },
   "outputs": [],
   "source": [
    "a = \"x = 3\"\n",
    "b = \"y = x + 52.817\"\n",
    "hw = \"print 'Hello, World!'\""
   ]
  },
  {
   "cell_type": "code",
   "execution_count": 3,
   "metadata": {
    "collapsed": false
   },
   "outputs": [],
   "source": [
    "def print_token(token_type, token_str, (srow, scol), (erow, ecol), line):\n",
    "    if srow == erow:\n",
    "        print \"{}: {}, {}, {}\".format(srow, tokenize.tok_name[token_type], repr(token_str), line)\n",
    "    else:\n",
    "        print \"{}-{}: {}, {}, {}\".format(srow, erow, tokenize.tok_name[token_type], repr(token_str), repr(line))\n",
    "\n",
    "def print_token_verbose(token_type, token_str, (srow, scol), (erow, ecol), line):\n",
    "    print \"({},{})--({},{}), {}, {}, {}\".format(\n",
    "        srow, scol, erow, ecol, tokenize.tok_name[token_type], repr(token_str), repr(line))\n",
    "\n",
    "def display_tokens(string, verbose=False):\n",
    "    s = StringIO(string).readline\n",
    "    f = print_token\n",
    "    if verbose:\n",
    "        f = print_token_verbose\n",
    "    tokenize.tokenize(s, f)"
   ]
  },
  {
   "cell_type": "code",
   "execution_count": 4,
   "metadata": {
    "collapsed": false
   },
   "outputs": [
    {
     "name": "stdout",
     "output_type": "stream",
     "text": [
      "(1,0)--(1,1), NAME, 'x', 'x = 3'\n",
      "(1,2)--(1,3), OP, '=', 'x = 3'\n",
      "(1,4)--(1,5), NUMBER, '3', 'x = 3'\n",
      "(2,0)--(2,0), ENDMARKER, '', ''\n"
     ]
    }
   ],
   "source": [
    "display_tokens(a, verbose=True)"
   ]
  },
  {
   "cell_type": "code",
   "execution_count": 5,
   "metadata": {
    "collapsed": false
   },
   "outputs": [
    {
     "name": "stdout",
     "output_type": "stream",
     "text": [
      "(1,0)--(1,1), NAME, 'y', 'y = x + 52.817'\n",
      "(1,2)--(1,3), OP, '=', 'y = x + 52.817'\n",
      "(1,4)--(1,5), NAME, 'x', 'y = x + 52.817'\n",
      "(1,6)--(1,7), OP, '+', 'y = x + 52.817'\n",
      "(1,8)--(1,14), NUMBER, '52.817', 'y = x + 52.817'\n",
      "(2,0)--(2,0), ENDMARKER, '', ''\n"
     ]
    }
   ],
   "source": [
    "display_tokens(b, verbose=True)"
   ]
  },
  {
   "cell_type": "code",
   "execution_count": 6,
   "metadata": {
    "collapsed": false
   },
   "outputs": [
    {
     "name": "stdout",
     "output_type": "stream",
     "text": [
      "(1,0)--(1,5), NAME, 'print', \"print 'Hello, World!'\"\n",
      "(1,6)--(1,21), STRING, \"'Hello, World!'\", \"print 'Hello, World!'\"\n",
      "(2,0)--(2,0), ENDMARKER, '', ''\n"
     ]
    }
   ],
   "source": [
    "display_tokens(hw, verbose=True)"
   ]
  },
  {
   "cell_type": "code",
   "execution_count": 7,
   "metadata": {
    "collapsed": false
   },
   "outputs": [
    {
     "name": "stdout",
     "output_type": "stream",
     "text": [
      "(1,0)--(1,1), NAME, 'a', 'a = 3\\n'\n",
      "(1,2)--(1,3), OP, '=', 'a = 3\\n'\n",
      "(1,4)--(1,5), NUMBER, '3', 'a = 3\\n'\n",
      "(1,5)--(1,6), NEWLINE, '\\n', 'a = 3\\n'\n",
      "(2,0)--(2,1), NAME, 'b', 'b = a**4\\n'\n",
      "(2,2)--(2,3), OP, '=', 'b = a**4\\n'\n",
      "(2,4)--(2,5), NAME, 'a', 'b = a**4\\n'\n",
      "(2,5)--(2,7), OP, '**', 'b = a**4\\n'\n",
      "(2,7)--(2,8), NUMBER, '4', 'b = a**4\\n'\n",
      "(2,8)--(2,9), NEWLINE, '\\n', 'b = a**4\\n'\n",
      "(3,0)--(3,1), NAME, 'b', 'b - a == 78'\n",
      "(3,2)--(3,3), OP, '-', 'b - a == 78'\n",
      "(3,4)--(3,5), NAME, 'a', 'b - a == 78'\n",
      "(3,6)--(3,8), OP, '==', 'b - a == 78'\n",
      "(3,9)--(3,11), NUMBER, '78', 'b - a == 78'\n",
      "(4,0)--(4,0), ENDMARKER, '', ''\n"
     ]
    }
   ],
   "source": [
    "longer=\"\"\"a = 3\n",
    "b = a**4\n",
    "b - a == 78\"\"\"\n",
    "\n",
    "display_tokens(longer, verbose=True)"
   ]
  },
  {
   "cell_type": "code",
   "execution_count": 8,
   "metadata": {
    "collapsed": false
   },
   "outputs": [
    {
     "name": "stdout",
     "output_type": "stream",
     "text": [
      "(1,0)--(1,5), NAME, 'class', 'class Foo(object):\\n'\n",
      "(1,6)--(1,9), NAME, 'Foo', 'class Foo(object):\\n'\n",
      "(1,9)--(1,10), OP, '(', 'class Foo(object):\\n'\n",
      "(1,10)--(1,16), NAME, 'object', 'class Foo(object):\\n'\n",
      "(1,16)--(1,17), OP, ')', 'class Foo(object):\\n'\n",
      "(1,17)--(1,18), OP, ':', 'class Foo(object):\\n'\n",
      "(1,18)--(1,19), NEWLINE, '\\n', 'class Foo(object):\\n'\n",
      "(2,0)--(2,4), INDENT, '    ', '    def __init__(self, x):\\n'\n",
      "(2,4)--(2,7), NAME, 'def', '    def __init__(self, x):\\n'\n",
      "(2,8)--(2,16), NAME, '__init__', '    def __init__(self, x):\\n'\n",
      "(2,16)--(2,17), OP, '(', '    def __init__(self, x):\\n'\n",
      "(2,17)--(2,21), NAME, 'self', '    def __init__(self, x):\\n'\n",
      "(2,21)--(2,22), OP, ',', '    def __init__(self, x):\\n'\n",
      "(2,23)--(2,24), NAME, 'x', '    def __init__(self, x):\\n'\n",
      "(2,24)--(2,25), OP, ')', '    def __init__(self, x):\\n'\n",
      "(2,25)--(2,26), OP, ':', '    def __init__(self, x):\\n'\n",
      "(2,26)--(2,27), NEWLINE, '\\n', '    def __init__(self, x):\\n'\n",
      "(3,0)--(3,8), INDENT, '        ', '        self.x = x\\n'\n",
      "(3,8)--(3,12), NAME, 'self', '        self.x = x\\n'\n",
      "(3,12)--(3,13), OP, '.', '        self.x = x\\n'\n",
      "(3,13)--(3,14), NAME, 'x', '        self.x = x\\n'\n",
      "(3,15)--(3,16), OP, '=', '        self.x = x\\n'\n",
      "(3,17)--(3,18), NAME, 'x', '        self.x = x\\n'\n",
      "(3,18)--(3,19), NEWLINE, '\\n', '        self.x = x\\n'\n",
      "(4,0)--(4,0), DEDENT, '', 'f = Foo(3)\\n'\n",
      "(4,0)--(4,0), DEDENT, '', 'f = Foo(3)\\n'\n",
      "(4,0)--(4,1), NAME, 'f', 'f = Foo(3)\\n'\n",
      "(4,2)--(4,3), OP, '=', 'f = Foo(3)\\n'\n",
      "(4,4)--(4,7), NAME, 'Foo', 'f = Foo(3)\\n'\n",
      "(4,7)--(4,8), OP, '(', 'f = Foo(3)\\n'\n",
      "(4,8)--(4,9), NUMBER, '3', 'f = Foo(3)\\n'\n",
      "(4,9)--(4,10), OP, ')', 'f = Foo(3)\\n'\n",
      "(4,10)--(4,11), NEWLINE, '\\n', 'f = Foo(3)\\n'\n",
      "(5,0)--(5,5), NAME, 'print', 'print f.x'\n",
      "(5,6)--(5,7), NAME, 'f', 'print f.x'\n",
      "(5,7)--(5,8), OP, '.', 'print f.x'\n",
      "(5,8)--(5,9), NAME, 'x', 'print f.x'\n",
      "(6,0)--(6,0), ENDMARKER, '', ''\n"
     ]
    }
   ],
   "source": [
    "class_ex=\"\"\"class Foo(object):\n",
    "    def __init__(self, x):\n",
    "        self.x = x\n",
    "f = Foo(3)\n",
    "print f.x\"\"\"\n",
    "\n",
    "display_tokens(class_ex, verbose=True)"
   ]
  },
  {
   "cell_type": "code",
   "execution_count": 9,
   "metadata": {
    "collapsed": false
   },
   "outputs": [],
   "source": [
    "import ast\n",
    "import copy"
   ]
  },
  {
   "cell_type": "code",
   "execution_count": 10,
   "metadata": {
    "collapsed": false
   },
   "outputs": [
    {
     "data": {
      "text/plain": [
       "\"Module(body=[Assign(targets=[Name(id='x', ctx=Store())], value=Num(n=3))])\""
      ]
     },
     "execution_count": 10,
     "metadata": {},
     "output_type": "execute_result"
    }
   ],
   "source": [
    "ast.dump(ast.parse(a))"
   ]
  },
  {
   "cell_type": "code",
   "execution_count": 11,
   "metadata": {
    "collapsed": false
   },
   "outputs": [
    {
     "name": "stdout",
     "output_type": "stream",
     "text": [
      "Hello, World!\n"
     ]
    }
   ],
   "source": [
    "exec(compile(ast.parse(hw, mode='exec'), '', 'exec'))"
   ]
  },
  {
   "cell_type": "code",
   "execution_count": 12,
   "metadata": {
    "collapsed": false
   },
   "outputs": [
    {
     "data": {
      "text/plain": [
       "\"Module(body=[Assign(targets=[Name(id='x', ctx=Store(), lineno=1, col_offset=0)], value=Num(n=3, lineno=1, col_offset=4), lineno=1, col_offset=0)])\""
      ]
     },
     "execution_count": 12,
     "metadata": {},
     "output_type": "execute_result"
    }
   ],
   "source": [
    "ast.dump(ast.parse(a), include_attributes=True)"
   ]
  },
  {
   "cell_type": "code",
   "execution_count": 13,
   "metadata": {
    "collapsed": false
   },
   "outputs": [
    {
     "name": "stdout",
     "output_type": "stream",
     "text": [
      "Module(body=[Assign(targets=[Name(id='x', ctx=Store())], value=Num(n=3))])\n"
     ]
    }
   ],
   "source": [
    "print ast.dump(ast.parse(a))"
   ]
  },
  {
   "cell_type": "code",
   "execution_count": 14,
   "metadata": {
    "collapsed": false
   },
   "outputs": [],
   "source": [
    "# http://05d2db1380b6504cc981-8cbed8cf7e3a131cd8f1c3e383d10041.r93.cf2.rackcdn.com/pycon-us-2011/419_what-would-you-do-with-an-ast.mp4\n",
    "\n",
    "use_x = ast.Name(id=\"x\", ctx=ast.Load())\n",
    "assign_x = ast.Name(id=\"x\", ctx=ast.Store())\n",
    "one = ast.Num(n=1)\n",
    "two = ast.Num(n=2)\n",
    "four = ast.Num(n=4)"
   ]
  },
  {
   "cell_type": "code",
   "execution_count": 15,
   "metadata": {
    "collapsed": false
   },
   "outputs": [
    {
     "data": {
      "text/plain": [
       "<_ast.Assign at 0x10cdb3d90>"
      ]
     },
     "execution_count": 15,
     "metadata": {},
     "output_type": "execute_result"
    }
   ],
   "source": [
    "assign_2 = ast.Assign(targets=[copy.copy(assign_x)], value=copy.copy(two))\n",
    "assign_2.lineno = 1\n",
    "assign_2.col_offset = 0\n",
    "ast.fix_missing_locations(assign_2) # <-- Applies lineno and col_offset to nodes in subtree (wrong, but ok for now)"
   ]
  },
  {
   "cell_type": "code",
   "execution_count": 16,
   "metadata": {
    "collapsed": false
   },
   "outputs": [],
   "source": [
    "if_ = ast.If()\n",
    "if_.test = ast.Compare()\n",
    "if_.test.left = copy.copy(use_x)\n",
    "if_.test.ops = [ast.Eq()]\n",
    "if_.test.comparators = [copy.copy(four)]"
   ]
  },
  {
   "cell_type": "code",
   "execution_count": 17,
   "metadata": {
    "collapsed": false
   },
   "outputs": [],
   "source": [
    "if_.body = [ast.Print(dest=None, values=[copy.copy(use_x)], nl=True)]"
   ]
  },
  {
   "cell_type": "code",
   "execution_count": 18,
   "metadata": {
    "collapsed": false
   },
   "outputs": [],
   "source": [
    "x_plus_1 = ast.BinOp(left=copy.copy(use_x), op=ast.Add(), right=copy.copy(one))\n",
    "assign = ast.Assign(targets=[copy.copy(assign_x)], value=x_plus_1)\n",
    "if_.orelse = [assign]"
   ]
  },
  {
   "cell_type": "code",
   "execution_count": 19,
   "metadata": {
    "collapsed": false
   },
   "outputs": [
    {
     "data": {
      "text/plain": [
       "<_ast.If at 0x10cdd8250>"
      ]
     },
     "execution_count": 19,
     "metadata": {},
     "output_type": "execute_result"
    }
   ],
   "source": [
    "if_.lineno = 2\n",
    "if_.col_offset = 0\n",
    "ast.fix_missing_locations(if_)"
   ]
  },
  {
   "cell_type": "code",
   "execution_count": 20,
   "metadata": {
    "collapsed": false
   },
   "outputs": [],
   "source": [
    "print_x = ast.Print(dest=None, values=[copy.copy(use_x)], nl=True)"
   ]
  },
  {
   "cell_type": "code",
   "execution_count": 21,
   "metadata": {
    "collapsed": false
   },
   "outputs": [
    {
     "data": {
      "text/plain": [
       "<_ast.Print at 0x10cdb3b10>"
      ]
     },
     "execution_count": 21,
     "metadata": {},
     "output_type": "execute_result"
    }
   ],
   "source": [
    "print_x.lineno = 3\n",
    "print_x.col_offset = 0\n",
    "ast.fix_missing_locations(print_x)"
   ]
  },
  {
   "cell_type": "code",
   "execution_count": 22,
   "metadata": {
    "collapsed": false
   },
   "outputs": [],
   "source": [
    "mod = ast.Module(body=[assign_2, if_, print_x])\n"
   ]
  },
  {
   "cell_type": "code",
   "execution_count": 23,
   "metadata": {
    "collapsed": false
   },
   "outputs": [],
   "source": [
    "code = compile(mod, '', 'exec')"
   ]
  },
  {
   "cell_type": "code",
   "execution_count": 24,
   "metadata": {
    "collapsed": false
   },
   "outputs": [
    {
     "name": "stdout",
     "output_type": "stream",
     "text": [
      "3\n",
      "\n",
      "Module(body=[Assign(targets=[Name(id='x', ctx=Store(), lineno=1, col_offset=0)], value=Num(n=2, lineno=1, col_offset=0), lineno=1, col_offset=0), If(test=Compare(left=Name(id='x', ctx=Load(), lineno=2, col_offset=0), ops=[Eq()], comparators=[Num(n=4, lineno=2, col_offset=0)], lineno=2, col_offset=0), body=[Print(dest=None, values=[Name(id='x', ctx=Load(), lineno=2, col_offset=0)], nl=True, lineno=2, col_offset=0)], orelse=[Assign(targets=[Name(id='x', ctx=Store(), lineno=2, col_offset=0)], value=BinOp(left=Name(id='x', ctx=Load(), lineno=2, col_offset=0), op=Add(), right=Num(n=1, lineno=2, col_offset=0), lineno=2, col_offset=0), lineno=2, col_offset=0)], lineno=2, col_offset=0), Print(dest=None, values=[Name(id='x', ctx=Load(), lineno=3, col_offset=0)], nl=True, lineno=3, col_offset=0)])\n",
      "\n"
     ]
    }
   ],
   "source": [
    "exec code\n",
    "print\n",
    "print (ast.dump(mod, include_attributes=True))\n",
    "print\n"
   ]
  },
  {
   "cell_type": "code",
   "execution_count": 25,
   "metadata": {
    "collapsed": false
   },
   "outputs": [],
   "source": [
    "fcn_str = \"\"\"def f(a, b=3, c=None):\n",
    "    print a\n",
    "    print \"b={}, c={}\".format(b,c)\"\"\""
   ]
  },
  {
   "cell_type": "code",
   "execution_count": 26,
   "metadata": {
    "collapsed": false
   },
   "outputs": [
    {
     "name": "stdout",
     "output_type": "stream",
     "text": [
      "Module(body=[FunctionDef(name='f', args=arguments(args=[Name(id='a', ctx=Param()), Name(id='b', ctx=Param()), Name(id='c', ctx=Param())], vararg=None, kwarg=None, defaults=[Num(n=3), Name(id='None', ctx=Load())]), body=[Print(dest=None, values=[Name(id='a', ctx=Load())], nl=True), Print(dest=None, values=[Call(func=Attribute(value=Str(s='b={}, c={}'), attr='format', ctx=Load()), args=[Name(id='b', ctx=Load()), Name(id='c', ctx=Load())], keywords=[], starargs=None, kwargs=None)], nl=True)], decorator_list=[])])\n"
     ]
    }
   ],
   "source": [
    "fcn_parsed = ast.parse(fcn_str)\n",
    "print ast.dump(fcn_parsed)"
   ]
  },
  {
   "cell_type": "code",
   "execution_count": 27,
   "metadata": {
    "collapsed": false
   },
   "outputs": [
    {
     "name": "stdout",
     "output_type": "stream",
     "text": [
      "a\n",
      "b\n",
      "c\n"
     ]
    }
   ],
   "source": [
    "for arg in fcn_parsed.body[0].args.args:\n",
    "    print arg.id"
   ]
  },
  {
   "cell_type": "code",
   "execution_count": 28,
   "metadata": {
    "collapsed": false
   },
   "outputs": [
    {
     "data": {
      "text/plain": [
       "\"arguments(args=[Name(id='a', ctx=Param()), Name(id='b', ctx=Param()), Name(id='c', ctx=Param())], vararg=None, kwarg=None, defaults=[Num(n=3), Name(id='None', ctx=Load())])\""
      ]
     },
     "execution_count": 28,
     "metadata": {},
     "output_type": "execute_result"
    }
   ],
   "source": [
    "ast.dump(fcn_parsed.body[0].args)"
   ]
  },
  {
   "cell_type": "code",
   "execution_count": 29,
   "metadata": {
    "collapsed": false
   },
   "outputs": [
    {
     "name": "stdout",
     "output_type": "stream",
     "text": [
      "3\n",
      "None\n"
     ]
    }
   ],
   "source": [
    "for x in fcn_parsed.body[0].args.defaults:\n",
    "    if isinstance(x, ast.Name):\n",
    "        print x.id\n",
    "    elif isinstance(x, ast.Num):\n",
    "        print x.n\n",
    "    else:\n",
    "        print x"
   ]
  },
  {
   "cell_type": "code",
   "execution_count": 30,
   "metadata": {
    "collapsed": false
   },
   "outputs": [
    {
     "data": {
      "text/plain": [
       "\"Module(body=[Expr(value=Call(func=Name(id='foo', ctx=Load()), args=[Name(id='a', ctx=Load()), Name(id='b', ctx=Load())], keywords=[keyword(arg='x', value=Num(n=3)), keyword(arg='y', value=Str(s='meh'))], starargs=None, kwargs=None))])\""
      ]
     },
     "execution_count": 30,
     "metadata": {},
     "output_type": "execute_result"
    }
   ],
   "source": [
    "call = \"foo(a, b, x=3, y='meh')\"\n",
    "ast.dump(ast.parse(call))"
   ]
  },
  {
   "cell_type": "code",
   "execution_count": 31,
   "metadata": {
    "collapsed": false
   },
   "outputs": [
    {
     "data": {
      "text/plain": [
       "\"Module(body=[Expr(value=Call(func=Attribute(value=Name(id='foo', ctx=Load()), attr='bar', ctx=Load()), args=[Name(id='a', ctx=Load()), Name(id='b', ctx=Load())], keywords=[keyword(arg='x', value=Name(id='y', ctx=Load()))], starargs=None, kwargs=None))])\""
      ]
     },
     "execution_count": 31,
     "metadata": {},
     "output_type": "execute_result"
    }
   ],
   "source": [
    "ast.dump(ast.parse(\"foo.bar(a,b,x=y)\"))"
   ]
  },
  {
   "cell_type": "code",
   "execution_count": 32,
   "metadata": {
    "collapsed": false
   },
   "outputs": [
    {
     "data": {
      "text/plain": [
       "\"Module(body=[Import(names=[alias(name='foo', asname=None)]), Expr(value=Call(func=Attribute(value=Name(id='foo', ctx=Load()), attr='bar', ctx=Load()), args=[Name(id='a', ctx=Load()), Name(id='b', ctx=Load())], keywords=[keyword(arg='x', value=Name(id='y', ctx=Load()))], starargs=None, kwargs=None))])\""
      ]
     },
     "execution_count": 32,
     "metadata": {},
     "output_type": "execute_result"
    }
   ],
   "source": [
    "ast.dump(ast.parse(\"\"\"\n",
    "import foo\n",
    "foo.bar(a,b,x=y)\"\"\"))"
   ]
  },
  {
   "cell_type": "code",
   "execution_count": 36,
   "metadata": {
    "collapsed": false
   },
   "outputs": [
    {
     "data": {
      "text/plain": [
       "\"Module(body=[Assign(targets=[Name(id='kw', ctx=Store())], value=Dict(keys=[Str(s='b')], values=[Num(n=3)])), Expr(value=Call(func=Name(id='foo', ctx=Load()), args=[Num(n=2), List(elts=[Num(n=3), Num(n=4), Str(s='bah')], ctx=Load())], keywords=[], starargs=None, kwargs=Name(id='kw', ctx=Load())))])\""
      ]
     },
     "execution_count": 36,
     "metadata": {},
     "output_type": "execute_result"
    }
   ],
   "source": [
    "ast.dump(ast.parse(\"\"\"kw = {\"b\": 3}\n",
    "foo(2, [3,4,\"bah\"], **kw)\"\"\"))"
   ]
  },
  {
   "cell_type": "code",
   "execution_count": 69,
   "metadata": {
    "collapsed": false
   },
   "outputs": [
    {
     "name": "stdout",
     "output_type": "stream",
     "text": [
      "Call(func=Name(id='foo', ctx=Load()), args=[Num(n=2), Num(n=3)], keywords=[keyword(arg='a', value=Num(n=6))], starargs=None, kwargs=None)\n"
     ]
    },
    {
     "data": {
      "text/plain": [
       "'foo'"
      ]
     },
     "execution_count": 69,
     "metadata": {},
     "output_type": "execute_result"
    }
   ],
   "source": [
    "x = ast.parse(\"foo(2, 3, a=6)\")\n",
    "print ast.dump(x.body[0].value)\n",
    "x.body[0].value.func.id"
   ]
  },
  {
   "cell_type": "code",
   "execution_count": 38,
   "metadata": {
    "collapsed": false
   },
   "outputs": [],
   "source": [
    "with open(\"../pip-create/setup.py\") as f:\n",
    "    setup = f.read()\n"
   ]
  },
  {
   "cell_type": "code",
   "execution_count": 93,
   "metadata": {
    "collapsed": false
   },
   "outputs": [],
   "source": [
    "functions = {}\n",
    "\n",
    "def grab_crap(x):\n",
    "    if isinstance(x, ast.Str):\n",
    "        return x.s\n",
    "    elif isinstance(x, ast.Name):\n",
    "        return x.id\n",
    "    elif isinstance(x, ast.List):\n",
    "        return [grab_crap(y) for y in x.elts]\n",
    "    elif isinstance(x, ast.Dict):\n",
    "        return {grab_crap(k): grab_crap(v) for k,v in zip(x.keys, x.values)}\n",
    "    else:\n",
    "        return x\n",
    "\n",
    "class FunctionGrabber(ast.NodeVisitor):\n",
    "    def visit_Call(self, node):\n",
    "        \n",
    "        if isinstance(node.func, ast.Name) and node.func.id == \"setup\":\n",
    "            #print ast.dump(node)\n",
    "            \n",
    "            gah = {kw.arg: grab_crap(kw.value) for kw in node.keywords}\n",
    "            \n",
    "            print gah"
   ]
  },
  {
   "cell_type": "code",
   "execution_count": 94,
   "metadata": {
    "collapsed": false
   },
   "outputs": [
    {
     "name": "stdout",
     "output_type": "stream",
     "text": [
      "{'entry_points': {'console_scripts': ['pip-create=pip_create:main']}, 'name': 'pip-create', 'license': 'MIT', 'author': 'Jack Maney', 'author_email': 'jackmaney@gmail.com', 'include_package_data': 'True', 'classifiers': ['Programming Language :: Python :: 2.7'], 'url': 'https://github.com/jackmaney/pip-create', 'version': '__version__', 'install_requires': 'requirements', 'packages': <_ast.Call object at 0x10d2a0e50>, 'long_description': 'long_description', 'description': 'Tools to create a Python distribution for use with pip'}\n"
     ]
    }
   ],
   "source": [
    "FunctionGrabber().visit(ast.parse(setup))"
   ]
  },
  {
   "cell_type": "code",
   "execution_count": 72,
   "metadata": {
    "collapsed": false
   },
   "outputs": [
    {
     "data": {
      "text/plain": [
       "{}"
      ]
     },
     "execution_count": 72,
     "metadata": {},
     "output_type": "execute_result"
    }
   ],
   "source": [
    "functions"
   ]
  },
  {
   "cell_type": "code",
   "execution_count": 89,
   "metadata": {
    "collapsed": false
   },
   "outputs": [
    {
     "data": {
      "text/plain": [
       "[('a', 1), ('b', 2)]"
      ]
     },
     "execution_count": 89,
     "metadata": {},
     "output_type": "execute_result"
    }
   ],
   "source": [
    "zip([\"a\", \"b\"], [1, 2])"
   ]
  },
  {
   "cell_type": "code",
   "execution_count": null,
   "metadata": {
    "collapsed": false
   },
   "outputs": [],
   "source": []
  }
 ],
 "metadata": {
  "kernelspec": {
   "display_name": "Python 2",
   "language": "python",
   "name": "python2"
  },
  "language_info": {
   "codemirror_mode": {
    "name": "ipython",
    "version": 2
   },
   "file_extension": ".py",
   "mimetype": "text/x-python",
   "name": "python",
   "nbconvert_exporter": "python",
   "pygments_lexer": "ipython2",
   "version": "2.7.9"
  }
 },
 "nbformat": 4,
 "nbformat_minor": 0
}
