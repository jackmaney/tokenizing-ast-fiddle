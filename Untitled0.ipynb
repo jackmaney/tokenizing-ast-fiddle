{
 "metadata": {
  "name": "",
  "signature": "sha256:c2cd06154b4fc9bb0ccac3ad8661f14772001e556b3f14dbf3087922f8bb2813"
 },
 "nbformat": 3,
 "nbformat_minor": 0,
 "worksheets": [
  {
   "cells": [
    {
     "cell_type": "code",
     "collapsed": false,
     "input": [
      "import tokenize\n",
      "from StringIO import StringIO"
     ],
     "language": "python",
     "metadata": {},
     "outputs": [],
     "prompt_number": 1
    },
    {
     "cell_type": "code",
     "collapsed": false,
     "input": [
      "a = \"x = 3\"\n",
      "b = \"y = x + 52.817\"\n",
      "hw = \"print 'Hello, World!'\""
     ],
     "language": "python",
     "metadata": {},
     "outputs": [],
     "prompt_number": 2
    },
    {
     "cell_type": "code",
     "collapsed": false,
     "input": [
      "def print_token(token_type, token_str, (srow, scol), (erow, ecol), line):\n",
      "    if srow == erow:\n",
      "        print \"{}: {}, {}, {}\".format(srow, tokenize.tok_name[token_type], repr(token_str), line)\n",
      "    else:\n",
      "        print \"{}-{}: {}, {}, {}\".format(srow, erow, tokenize.tok_name[token_type], repr(token_str), repr(line))\n",
      "\n",
      "def print_token_verbose(token_type, token_str, (srow, scol), (erow, ecol), line):\n",
      "    print \"({},{})--({},{}), {}, {}, {}\".format(\n",
      "        srow, scol, erow, ecol, tokenize.tok_name[token_type], repr(token_str), repr(line))\n",
      "\n",
      "def display_tokens(string, verbose=False):\n",
      "    s = StringIO(string).readline\n",
      "    f = print_token\n",
      "    if verbose:\n",
      "        f = print_token_verbose\n",
      "    tokenize.tokenize(s, f)"
     ],
     "language": "python",
     "metadata": {},
     "outputs": [],
     "prompt_number": 3
    },
    {
     "cell_type": "code",
     "collapsed": false,
     "input": [
      "display_tokens(a, verbose=True)"
     ],
     "language": "python",
     "metadata": {},
     "outputs": [
      {
       "output_type": "stream",
       "stream": "stdout",
       "text": [
        "(1,0)--(1,1), NAME, 'x', 'x = 3'\n",
        "(1,2)--(1,3), OP, '=', 'x = 3'\n",
        "(1,4)--(1,5), NUMBER, '3', 'x = 3'\n",
        "(2,0)--(2,0), ENDMARKER, '', ''\n"
       ]
      }
     ],
     "prompt_number": 4
    },
    {
     "cell_type": "code",
     "collapsed": false,
     "input": [
      "display_tokens(b, verbose=True)"
     ],
     "language": "python",
     "metadata": {},
     "outputs": [
      {
       "output_type": "stream",
       "stream": "stdout",
       "text": [
        "(1,0)--(1,1), NAME, 'y', 'y = x + 52.817'\n",
        "(1,2)--(1,3), OP, '=', 'y = x + 52.817'\n",
        "(1,4)--(1,5), NAME, 'x', 'y = x + 52.817'\n",
        "(1,6)--(1,7), OP, '+', 'y = x + 52.817'\n",
        "(1,8)--(1,14), NUMBER, '52.817', 'y = x + 52.817'\n",
        "(2,0)--(2,0), ENDMARKER, '', ''\n"
       ]
      }
     ],
     "prompt_number": 5
    },
    {
     "cell_type": "code",
     "collapsed": false,
     "input": [
      "display_tokens(hw, verbose=True)"
     ],
     "language": "python",
     "metadata": {},
     "outputs": [
      {
       "output_type": "stream",
       "stream": "stdout",
       "text": [
        "(1,0)--(1,5), NAME, 'print', \"print 'Hello, World!'\"\n",
        "(1,6)--(1,21), STRING, \"'Hello, World!'\", \"print 'Hello, World!'\"\n",
        "(2,0)--(2,0), ENDMARKER, '', ''\n"
       ]
      }
     ],
     "prompt_number": 6
    },
    {
     "cell_type": "code",
     "collapsed": false,
     "input": [
      "longer=\"\"\"a = 3\n",
      "b = a**4\n",
      "b - a == 78\"\"\"\n",
      "\n",
      "display_tokens(longer, verbose=True)"
     ],
     "language": "python",
     "metadata": {},
     "outputs": [
      {
       "output_type": "stream",
       "stream": "stdout",
       "text": [
        "(1,0)--(1,1), NAME, 'a', 'a = 3\\n'\n",
        "(1,2)--(1,3), OP, '=', 'a = 3\\n'\n",
        "(1,4)--(1,5), NUMBER, '3', 'a = 3\\n'\n",
        "(1,5)--(1,6), NEWLINE, '\\n', 'a = 3\\n'\n",
        "(2,0)--(2,1), NAME, 'b', 'b = a**4\\n'\n",
        "(2,2)--(2,3), OP, '=', 'b = a**4\\n'\n",
        "(2,4)--(2,5), NAME, 'a', 'b = a**4\\n'\n",
        "(2,5)--(2,7), OP, '**', 'b = a**4\\n'\n",
        "(2,7)--(2,8), NUMBER, '4', 'b = a**4\\n'\n",
        "(2,8)--(2,9), NEWLINE, '\\n', 'b = a**4\\n'\n",
        "(3,0)--(3,1), NAME, 'b', 'b - a == 78'\n",
        "(3,2)--(3,3), OP, '-', 'b - a == 78'\n",
        "(3,4)--(3,5), NAME, 'a', 'b - a == 78'\n",
        "(3,6)--(3,8), OP, '==', 'b - a == 78'\n",
        "(3,9)--(3,11), NUMBER, '78', 'b - a == 78'\n",
        "(4,0)--(4,0), ENDMARKER, '', ''\n"
       ]
      }
     ],
     "prompt_number": 7
    },
    {
     "cell_type": "code",
     "collapsed": false,
     "input": [
      "class_ex=\"\"\"class Foo(object):\n",
      "    def __init__(self, x):\n",
      "        self.x = x\n",
      "f = Foo(3)\n",
      "print f.x\"\"\"\n",
      "\n",
      "display_tokens(class_ex, verbose=True)"
     ],
     "language": "python",
     "metadata": {},
     "outputs": [
      {
       "output_type": "stream",
       "stream": "stdout",
       "text": [
        "(1,0)--(1,5), NAME, 'class', 'class Foo(object):\\n'\n",
        "(1,6)--(1,9), NAME, 'Foo', 'class Foo(object):\\n'\n",
        "(1,9)--(1,10), OP, '(', 'class Foo(object):\\n'\n",
        "(1,10)--(1,16), NAME, 'object', 'class Foo(object):\\n'\n",
        "(1,16)--(1,17), OP, ')', 'class Foo(object):\\n'\n",
        "(1,17)--(1,18), OP, ':', 'class Foo(object):\\n'\n",
        "(1,18)--(1,19), NEWLINE, '\\n', 'class Foo(object):\\n'\n",
        "(2,0)--(2,4), INDENT, '    ', '    def __init__(self, x):\\n'\n",
        "(2,4)--(2,7), NAME, 'def', '    def __init__(self, x):\\n'\n",
        "(2,8)--(2,16), NAME, '__init__', '    def __init__(self, x):\\n'\n",
        "(2,16)--(2,17), OP, '(', '    def __init__(self, x):\\n'\n",
        "(2,17)--(2,21), NAME, 'self', '    def __init__(self, x):\\n'\n",
        "(2,21)--(2,22), OP, ',', '    def __init__(self, x):\\n'\n",
        "(2,23)--(2,24), NAME, 'x', '    def __init__(self, x):\\n'\n",
        "(2,24)--(2,25), OP, ')', '    def __init__(self, x):\\n'\n",
        "(2,25)--(2,26), OP, ':', '    def __init__(self, x):\\n'\n",
        "(2,26)--(2,27), NEWLINE, '\\n', '    def __init__(self, x):\\n'\n",
        "(3,0)--(3,8), INDENT, '        ', '        self.x = x\\n'\n",
        "(3,8)--(3,12), NAME, 'self', '        self.x = x\\n'\n",
        "(3,12)--(3,13), OP, '.', '        self.x = x\\n'\n",
        "(3,13)--(3,14), NAME, 'x', '        self.x = x\\n'\n",
        "(3,15)--(3,16), OP, '=', '        self.x = x\\n'\n",
        "(3,17)--(3,18), NAME, 'x', '        self.x = x\\n'\n",
        "(3,18)--(3,19), NEWLINE, '\\n', '        self.x = x\\n'\n",
        "(4,0)--(4,0), DEDENT, '', 'f = Foo(3)\\n'\n",
        "(4,0)--(4,0), DEDENT, '', 'f = Foo(3)\\n'\n",
        "(4,0)--(4,1), NAME, 'f', 'f = Foo(3)\\n'\n",
        "(4,2)--(4,3), OP, '=', 'f = Foo(3)\\n'\n",
        "(4,4)--(4,7), NAME, 'Foo', 'f = Foo(3)\\n'\n",
        "(4,7)--(4,8), OP, '(', 'f = Foo(3)\\n'\n",
        "(4,8)--(4,9), NUMBER, '3', 'f = Foo(3)\\n'\n",
        "(4,9)--(4,10), OP, ')', 'f = Foo(3)\\n'\n",
        "(4,10)--(4,11), NEWLINE, '\\n', 'f = Foo(3)\\n'\n",
        "(5,0)--(5,5), NAME, 'print', 'print f.x'\n",
        "(5,6)--(5,7), NAME, 'f', 'print f.x'\n",
        "(5,7)--(5,8), OP, '.', 'print f.x'\n",
        "(5,8)--(5,9), NAME, 'x', 'print f.x'\n",
        "(6,0)--(6,0), ENDMARKER, '', ''\n"
       ]
      }
     ],
     "prompt_number": 8
    },
    {
     "cell_type": "code",
     "collapsed": false,
     "input": [
      "import ast\n",
      "import copy"
     ],
     "language": "python",
     "metadata": {},
     "outputs": [],
     "prompt_number": 9
    },
    {
     "cell_type": "code",
     "collapsed": false,
     "input": [
      "ast.dump(ast.parse(a))"
     ],
     "language": "python",
     "metadata": {},
     "outputs": [
      {
       "metadata": {},
       "output_type": "pyout",
       "prompt_number": 10,
       "text": [
        "\"Module(body=[Assign(targets=[Name(id='x', ctx=Store())], value=Num(n=3))])\""
       ]
      }
     ],
     "prompt_number": 10
    },
    {
     "cell_type": "code",
     "collapsed": false,
     "input": [
      "exec(compile(ast.parse(hw, mode='exec'), '', 'exec'))"
     ],
     "language": "python",
     "metadata": {},
     "outputs": [
      {
       "output_type": "stream",
       "stream": "stdout",
       "text": [
        "Hello, World!\n"
       ]
      }
     ],
     "prompt_number": 11
    },
    {
     "cell_type": "code",
     "collapsed": false,
     "input": [
      "ast.dump(ast.parse(a), include_attributes=True)"
     ],
     "language": "python",
     "metadata": {},
     "outputs": [
      {
       "metadata": {},
       "output_type": "pyout",
       "prompt_number": 12,
       "text": [
        "\"Module(body=[Assign(targets=[Name(id='x', ctx=Store(), lineno=1, col_offset=0)], value=Num(n=3, lineno=1, col_offset=4), lineno=1, col_offset=0)])\""
       ]
      }
     ],
     "prompt_number": 12
    },
    {
     "cell_type": "code",
     "collapsed": false,
     "input": [
      "print ast.dump(ast.parse(a))"
     ],
     "language": "python",
     "metadata": {},
     "outputs": [
      {
       "output_type": "stream",
       "stream": "stdout",
       "text": [
        "Module(body=[Assign(targets=[Name(id='x', ctx=Store())], value=Num(n=3))])\n"
       ]
      }
     ],
     "prompt_number": 13
    },
    {
     "cell_type": "code",
     "collapsed": false,
     "input": [
      "# http://05d2db1380b6504cc981-8cbed8cf7e3a131cd8f1c3e383d10041.r93.cf2.rackcdn.com/pycon-us-2011/419_what-would-you-do-with-an-ast.mp4\n",
      "\n",
      "use_x = ast.Name(id=\"x\", ctx=ast.Load())\n",
      "assign_x = ast.Name(id=\"x\", ctx=ast.Store())\n",
      "one = ast.Num(n=1)\n",
      "two = ast.Num(n=2)\n",
      "four = ast.Num(n=4)"
     ],
     "language": "python",
     "metadata": {},
     "outputs": [],
     "prompt_number": 14
    },
    {
     "cell_type": "code",
     "collapsed": false,
     "input": [
      "assign_2 = ast.Assign(targets=[copy.copy(assign_x)], value=copy.copy(two))\n",
      "assign_2.lineno = 1\n",
      "assign_2.col_offset = 0\n",
      "ast.fix_missing_locations(assign_2) # <-- Applies lineno and col_offset to nodes in subtree (wrong, but ok for now)"
     ],
     "language": "python",
     "metadata": {},
     "outputs": [
      {
       "metadata": {},
       "output_type": "pyout",
       "prompt_number": 15,
       "text": [
        "<_ast.Assign at 0x10cdb3d90>"
       ]
      }
     ],
     "prompt_number": 15
    },
    {
     "cell_type": "code",
     "collapsed": false,
     "input": [
      "if_ = ast.If()\n",
      "if_.test = ast.Compare()\n",
      "if_.test.left = copy.copy(use_x)\n",
      "if_.test.ops = [ast.Eq()]\n",
      "if_.test.comparators = [copy.copy(four)]"
     ],
     "language": "python",
     "metadata": {},
     "outputs": [],
     "prompt_number": 16
    },
    {
     "cell_type": "code",
     "collapsed": false,
     "input": [
      "if_.body = [ast.Print(dest=None, values=[copy.copy(use_x)], nl=True)]"
     ],
     "language": "python",
     "metadata": {},
     "outputs": [],
     "prompt_number": 17
    },
    {
     "cell_type": "code",
     "collapsed": false,
     "input": [
      "x_plus_1 = ast.BinOp(left=copy.copy(use_x), op=ast.Add(), right=copy.copy(one))\n",
      "assign = ast.Assign(targets=[copy.copy(assign_x)], value=x_plus_1)\n",
      "if_.orelse = [assign]"
     ],
     "language": "python",
     "metadata": {},
     "outputs": [],
     "prompt_number": 18
    },
    {
     "cell_type": "code",
     "collapsed": false,
     "input": [
      "if_.lineno = 2\n",
      "if_.col_offset = 0\n",
      "ast.fix_missing_locations(if_)"
     ],
     "language": "python",
     "metadata": {},
     "outputs": [
      {
       "metadata": {},
       "output_type": "pyout",
       "prompt_number": 19,
       "text": [
        "<_ast.If at 0x10cdd8250>"
       ]
      }
     ],
     "prompt_number": 19
    },
    {
     "cell_type": "code",
     "collapsed": false,
     "input": [
      "print_x = ast.Print(dest=None, values=[copy.copy(use_x)], nl=True)"
     ],
     "language": "python",
     "metadata": {},
     "outputs": [],
     "prompt_number": 20
    },
    {
     "cell_type": "code",
     "collapsed": false,
     "input": [
      "print_x.lineno = 3\n",
      "print_x.col_offset = 0\n",
      "ast.fix_missing_locations(print_x)"
     ],
     "language": "python",
     "metadata": {},
     "outputs": [
      {
       "metadata": {},
       "output_type": "pyout",
       "prompt_number": 21,
       "text": [
        "<_ast.Print at 0x10cdb3b10>"
       ]
      }
     ],
     "prompt_number": 21
    },
    {
     "cell_type": "code",
     "collapsed": false,
     "input": [
      "mod = ast.Module(body=[assign_2, if_, print_x])\n"
     ],
     "language": "python",
     "metadata": {},
     "outputs": [],
     "prompt_number": 22
    },
    {
     "cell_type": "code",
     "collapsed": false,
     "input": [
      "code = compile(mod, '', 'exec')"
     ],
     "language": "python",
     "metadata": {},
     "outputs": [],
     "prompt_number": 23
    },
    {
     "cell_type": "code",
     "collapsed": false,
     "input": [
      "exec code\n",
      "print\n",
      "print (ast.dump(mod, include_attributes=True))\n",
      "print\n"
     ],
     "language": "python",
     "metadata": {},
     "outputs": [
      {
       "output_type": "stream",
       "stream": "stdout",
       "text": [
        "3\n",
        "\n",
        "Module(body=[Assign(targets=[Name(id='x', ctx=Store(), lineno=1, col_offset=0)], value=Num(n=2, lineno=1, col_offset=0), lineno=1, col_offset=0), If(test=Compare(left=Name(id='x', ctx=Load(), lineno=2, col_offset=0), ops=[Eq()], comparators=[Num(n=4, lineno=2, col_offset=0)], lineno=2, col_offset=0), body=[Print(dest=None, values=[Name(id='x', ctx=Load(), lineno=2, col_offset=0)], nl=True, lineno=2, col_offset=0)], orelse=[Assign(targets=[Name(id='x', ctx=Store(), lineno=2, col_offset=0)], value=BinOp(left=Name(id='x', ctx=Load(), lineno=2, col_offset=0), op=Add(), right=Num(n=1, lineno=2, col_offset=0), lineno=2, col_offset=0), lineno=2, col_offset=0)], lineno=2, col_offset=0), Print(dest=None, values=[Name(id='x', ctx=Load(), lineno=3, col_offset=0)], nl=True, lineno=3, col_offset=0)])\n",
        "\n"
       ]
      }
     ],
     "prompt_number": 24
    },
    {
     "cell_type": "code",
     "collapsed": false,
     "input": [
      "fcn_str = \"\"\"def f(a, b=3, c=None):\n",
      "    print a\n",
      "    print \"b={}, c={}\".format(b,c)\"\"\""
     ],
     "language": "python",
     "metadata": {},
     "outputs": [],
     "prompt_number": 25
    },
    {
     "cell_type": "code",
     "collapsed": false,
     "input": [
      "fcn_parsed = ast.parse(fcn_str)\n",
      "print ast.dump(fcn_parsed)"
     ],
     "language": "python",
     "metadata": {},
     "outputs": [
      {
       "output_type": "stream",
       "stream": "stdout",
       "text": [
        "Module(body=[FunctionDef(name='f', args=arguments(args=[Name(id='a', ctx=Param()), Name(id='b', ctx=Param()), Name(id='c', ctx=Param())], vararg=None, kwarg=None, defaults=[Num(n=3), Name(id='None', ctx=Load())]), body=[Print(dest=None, values=[Name(id='a', ctx=Load())], nl=True), Print(dest=None, values=[Call(func=Attribute(value=Str(s='b={}, c={}'), attr='format', ctx=Load()), args=[Name(id='b', ctx=Load()), Name(id='c', ctx=Load())], keywords=[], starargs=None, kwargs=None)], nl=True)], decorator_list=[])])\n"
       ]
      }
     ],
     "prompt_number": 26
    },
    {
     "cell_type": "code",
     "collapsed": false,
     "input": [
      "for arg in fcn_parsed.body[0].args.args:\n",
      "    print arg.id"
     ],
     "language": "python",
     "metadata": {},
     "outputs": [
      {
       "output_type": "stream",
       "stream": "stdout",
       "text": [
        "a\n",
        "b\n",
        "c\n"
       ]
      }
     ],
     "prompt_number": 27
    },
    {
     "cell_type": "code",
     "collapsed": false,
     "input": [
      "ast.dump(fcn_parsed.body[0].args)"
     ],
     "language": "python",
     "metadata": {},
     "outputs": [
      {
       "metadata": {},
       "output_type": "pyout",
       "prompt_number": 28,
       "text": [
        "\"arguments(args=[Name(id='a', ctx=Param()), Name(id='b', ctx=Param()), Name(id='c', ctx=Param())], vararg=None, kwarg=None, defaults=[Num(n=3), Name(id='None', ctx=Load())])\""
       ]
      }
     ],
     "prompt_number": 28
    },
    {
     "cell_type": "code",
     "collapsed": false,
     "input": [
      "for x in fcn_parsed.body[0].args.defaults:\n",
      "    if isinstance(x, ast.Name):\n",
      "        print x.id\n",
      "    elif isinstance(x, ast.Num):\n",
      "        print x.n\n",
      "    else:\n",
      "        print x"
     ],
     "language": "python",
     "metadata": {},
     "outputs": [
      {
       "output_type": "stream",
       "stream": "stdout",
       "text": [
        "3\n",
        "None\n"
       ]
      }
     ],
     "prompt_number": 29
    },
    {
     "cell_type": "code",
     "collapsed": false,
     "input": [
      "call = \"foo(a, b, x=3, y='meh')\"\n",
      "ast.dump(ast.parse(call))"
     ],
     "language": "python",
     "metadata": {},
     "outputs": [
      {
       "metadata": {},
       "output_type": "pyout",
       "prompt_number": 30,
       "text": [
        "\"Module(body=[Expr(value=Call(func=Name(id='foo', ctx=Load()), args=[Name(id='a', ctx=Load()), Name(id='b', ctx=Load())], keywords=[keyword(arg='x', value=Num(n=3)), keyword(arg='y', value=Str(s='meh'))], starargs=None, kwargs=None))])\""
       ]
      }
     ],
     "prompt_number": 30
    },
    {
     "cell_type": "code",
     "collapsed": false,
     "input": [
      "ast.dump(ast.parse(\"foo.bar(a,b,x=y)\"))"
     ],
     "language": "python",
     "metadata": {},
     "outputs": [
      {
       "metadata": {},
       "output_type": "pyout",
       "prompt_number": 31,
       "text": [
        "\"Module(body=[Expr(value=Call(func=Attribute(value=Name(id='foo', ctx=Load()), attr='bar', ctx=Load()), args=[Name(id='a', ctx=Load()), Name(id='b', ctx=Load())], keywords=[keyword(arg='x', value=Name(id='y', ctx=Load()))], starargs=None, kwargs=None))])\""
       ]
      }
     ],
     "prompt_number": 31
    },
    {
     "cell_type": "code",
     "collapsed": false,
     "input": [
      "ast.dump(ast.parse(\"\"\"\n",
      "import foo\n",
      "foo.bar(a,b,x=y)\"\"\"))"
     ],
     "language": "python",
     "metadata": {},
     "outputs": [
      {
       "metadata": {},
       "output_type": "pyout",
       "prompt_number": 32,
       "text": [
        "\"Module(body=[Import(names=[alias(name='foo', asname=None)]), Expr(value=Call(func=Attribute(value=Name(id='foo', ctx=Load()), attr='bar', ctx=Load()), args=[Name(id='a', ctx=Load()), Name(id='b', ctx=Load())], keywords=[keyword(arg='x', value=Name(id='y', ctx=Load()))], starargs=None, kwargs=None))])\""
       ]
      }
     ],
     "prompt_number": 32
    },
    {
     "cell_type": "code",
     "collapsed": false,
     "input": [
      "ast.dump(ast.parse(\"\"\"kw = {\"b\": 3}\n",
      "foo(2, [3,4,\"bah\"], **kw)\"\"\"))"
     ],
     "language": "python",
     "metadata": {},
     "outputs": [
      {
       "metadata": {},
       "output_type": "pyout",
       "prompt_number": 36,
       "text": [
        "\"Module(body=[Assign(targets=[Name(id='kw', ctx=Store())], value=Dict(keys=[Str(s='b')], values=[Num(n=3)])), Expr(value=Call(func=Name(id='foo', ctx=Load()), args=[Num(n=2), List(elts=[Num(n=3), Num(n=4), Str(s='bah')], ctx=Load())], keywords=[], starargs=None, kwargs=Name(id='kw', ctx=Load())))])\""
       ]
      }
     ],
     "prompt_number": 36
    },
    {
     "cell_type": "code",
     "collapsed": false,
     "input": [
      "x = ast.parse(\"foo(2, 3, a=6)\")\n",
      "print ast.dump(x.body[0].value)\n",
      "x.body[0].value.func.id"
     ],
     "language": "python",
     "metadata": {},
     "outputs": [
      {
       "output_type": "stream",
       "stream": "stdout",
       "text": [
        "Call(func=Name(id='foo', ctx=Load()), args=[Num(n=2), Num(n=3)], keywords=[keyword(arg='a', value=Num(n=6))], starargs=None, kwargs=None)\n"
       ]
      },
      {
       "metadata": {},
       "output_type": "pyout",
       "prompt_number": 69,
       "text": [
        "'foo'"
       ]
      }
     ],
     "prompt_number": 69
    },
    {
     "cell_type": "code",
     "collapsed": false,
     "input": [
      "with open(\"../pip-create/setup.py\") as f:\n",
      "    setup = f.read()\n"
     ],
     "language": "python",
     "metadata": {},
     "outputs": [],
     "prompt_number": 38
    },
    {
     "cell_type": "code",
     "collapsed": false,
     "input": [
      "functions = {}\n",
      "\n",
      "def grab_crap(x):\n",
      "    if isinstance(x, ast.Str):\n",
      "        return x.s\n",
      "    elif isinstance(x, ast.Name):\n",
      "        return x.id\n",
      "    elif isinstance(x, ast.List):\n",
      "        return [grab_crap(y) for y in x.elts]\n",
      "    elif isinstance(x, ast.Dict):\n",
      "        return {grab_crap(k): grab_crap(v) for k,v in zip(x.keys, x.values)}\n",
      "    else:\n",
      "        return x\n",
      "\n",
      "class FunctionGrabber(ast.NodeVisitor):\n",
      "    def visit_Call(self, node):\n",
      "        \n",
      "        if isinstance(node.func, ast.Name) and node.func.id == \"setup\":\n",
      "            #print ast.dump(node)\n",
      "            \n",
      "            gah = {kw.arg: grab_crap(kw.value) for kw in node.keywords}\n",
      "            \n",
      "            print gah"
     ],
     "language": "python",
     "metadata": {},
     "outputs": [],
     "prompt_number": 93
    },
    {
     "cell_type": "code",
     "collapsed": false,
     "input": [
      "FunctionGrabber().visit(ast.parse(setup))"
     ],
     "language": "python",
     "metadata": {},
     "outputs": [
      {
       "output_type": "stream",
       "stream": "stdout",
       "text": [
        "{'entry_points': {'console_scripts': ['pip-create=pip_create:main']}, 'name': 'pip-create', 'license': 'MIT', 'author': 'Jack Maney', 'author_email': 'jackmaney@gmail.com', 'include_package_data': 'True', 'classifiers': ['Programming Language :: Python :: 2.7'], 'url': 'https://github.com/jackmaney/pip-create', 'version': '__version__', 'install_requires': 'requirements', 'packages': <_ast.Call object at 0x10d2a0e50>, 'long_description': 'long_description', 'description': 'Tools to create a Python distribution for use with pip'}\n"
       ]
      }
     ],
     "prompt_number": 94
    },
    {
     "cell_type": "code",
     "collapsed": false,
     "input": [
      "functions"
     ],
     "language": "python",
     "metadata": {},
     "outputs": [
      {
       "metadata": {},
       "output_type": "pyout",
       "prompt_number": 72,
       "text": [
        "{}"
       ]
      }
     ],
     "prompt_number": 72
    },
    {
     "cell_type": "code",
     "collapsed": false,
     "input": [
      "zip([\"a\", \"b\"], [1, 2])"
     ],
     "language": "python",
     "metadata": {},
     "outputs": [
      {
       "metadata": {},
       "output_type": "pyout",
       "prompt_number": 89,
       "text": [
        "[('a', 1), ('b', 2)]"
       ]
      }
     ],
     "prompt_number": 89
    },
    {
     "cell_type": "code",
     "collapsed": false,
     "input": [],
     "language": "python",
     "metadata": {},
     "outputs": []
    }
   ],
   "metadata": {}
  }
 ]
}